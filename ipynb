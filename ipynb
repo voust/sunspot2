# Sunspot: AI-Powered Street View Location Prediction

## Data Collection

### Introduction

This section focuses on collecting street view images and their corresponding geographical coordinates using the Mapillary API.

### Code

